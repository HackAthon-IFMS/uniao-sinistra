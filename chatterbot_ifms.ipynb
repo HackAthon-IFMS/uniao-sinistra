{
  "nbformat": 4,
  "nbformat_minor": 0,
  "metadata": {
    "colab": {
      "name": "chatterbot_ifms.ipynb",
      "provenance": []
    },
    "kernelspec": {
      "name": "python3",
      "display_name": "Python 3"
    }
  },
  "cells": [
    {
      "cell_type": "markdown",
      "metadata": {
        "id": "lb5Y-TiEgEt2"
      },
      "source": [
        "\n",
        "\n",
        "> IFAI é o nome que demos para o Assistente virtual.\n",
        "\n",
        "E esse algoritmo irá ajudar os alunos a saberem a resposta de sua pergunta sobre a escola ou professor facilmente, sem que o professor ou a escola responda manualmente.\n",
        "\n",
        "\n"
      ]
    },
    {
      "cell_type": "code",
      "metadata": {
        "id": "PyvfhYdBZD3n"
      },
      "source": [
        "from chatterbot import ChatBot\n",
        "from chatterbot.trainers import ListTrainer\n",
        "\n",
        "bot = ChatBot('IFAI')\n",
        "\n",
        "#Perguntas e respostas.\n",
        "conversa = ['Ola', 'Ola, em que posso te ajudar?',\n",
        "            'Qual o horario da aula de matematica?', '8 horas.', \n",
        "            'Qual o link da video aula?', 'Link: meet.com/aa23s',\n",
        "            'O professor de matematica esta disponivel?', 'Sim, o professor de matematica está disponivel.',\n",
        "            'Vai ter aula hoje?', 'Sim, hoje terá aula.'\n",
        "            ]\n",
        "\n",
        "#Treino do bot com a conversa pré-programada\n",
        "trainer = ListTrainer(bot)\n",
        "trainer.train(conversa)\n",
        "\n",
        "#Irá mostrar o chat entre o usuário e o bot\n",
        "while True:\n",
        "    mensagem = input('Você: ')\n",
        "    resposta = bot.get_response(mensagem)\n",
        "\n",
        "    print('IFAI: ', resposta)"
      ],
      "execution_count": null,
      "outputs": []
    }
  ]
}